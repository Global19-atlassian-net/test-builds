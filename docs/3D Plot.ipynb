{
 "cells": [
  {
   "cell_type": "code",
   "execution_count": null,
   "metadata": {},
   "outputs": [],
   "source": [
    "from plotly.offline import init_notebook_mode\n",
    "\n",
    "init_notebook_mode(connected=False)"
   ]
  },
  {
   "cell_type": "code",
   "execution_count": null,
   "metadata": {},
   "outputs": [],
   "source": [
    "z = [ 0.,  1.,  2.,  3.,  4.,  5.,  6.,  7.,  8.,  9., 10.]  # np.linspace(0, 10, 11)\n",
    "x = [  # np.cos(z)\n",
    "    1.0,\n",
    "    0.5403023058681398,\n",
    "    -0.4161468365471424,\n",
    "    -0.9899924966004454,\n",
    "    -0.6536436208636119,\n",
    "    0.28366218546322625,\n",
    "    0.960170286650366,\n",
    "    0.7539022543433046,\n",
    "    -0.14550003380861354,\n",
    "    -0.9111302618846769,\n",
    "    -0.8390715290764524\n",
    "]\n",
    "y = [  # np.sin(z)\n",
    "    0.0,\n",
    "    0.8414709848078965,\n",
    "    0.9092974268256817,\n",
    "    0.1411200080598672,\n",
    "    -0.7568024953079282,\n",
    "    -0.9589242746631385,\n",
    "    -0.27941549819892586,\n",
    "    0.6569865987187891,\n",
    "    0.9893582466233818,\n",
    "    0.4121184852417566,\n",
    "    -0.5440211108893698\n",
    "]"
   ]
  },
  {
   "cell_type": "code",
   "execution_count": null,
   "metadata": {},
   "outputs": [],
   "source": [
    "from plotly.offline import iplot\n",
    "from plotly.graph_objs import Scatter3d"
   ]
  },
  {
   "cell_type": "code",
   "execution_count": null,
   "metadata": {},
   "outputs": [],
   "source": [
    "trace = Scatter3d(x=x, y=y, z=z)\n",
    "\n",
    "fig = dict(data=[trace])\n",
    "\n",
    "iplot(fig)"
   ]
  }
 ],
 "metadata": {
  "kernelspec": {
   "display_name": "Python 3",
   "language": "python",
   "name": "python3"
  },
  "language_info": {
   "codemirror_mode": {
    "name": "ipython",
    "version": 3
   },
   "file_extension": ".py",
   "mimetype": "text/x-python",
   "name": "python",
   "nbconvert_exporter": "python",
   "pygments_lexer": "ipython3",
   "version": "3.6.7"
  }
 },
 "nbformat": 4,
 "nbformat_minor": 2
}
